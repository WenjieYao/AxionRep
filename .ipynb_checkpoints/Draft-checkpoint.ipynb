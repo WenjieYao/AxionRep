{
 "cells": [
  {
   "cell_type": "code",
   "execution_count": 2,
   "metadata": {
    "collapsed": true
   },
   "outputs": [],
   "source": [
    "#%The supercell gemoetry\n",
    "import math\n",
    "import meep as mp\n",
    "\n",
    "#na = 1\n",
    "#r = 0.0725\n",
    "#n = math.sqrt(32)\n",
    "def DiamondLattice(eps,r,nx,ny,nz,ax,ay,az,pad):\n",
    "    #\n",
    "    L = math.sqrt(3)/4.0\n",
    "    hs = math.sqrt(3)/12.0\n",
    "\n",
    "    geometry_lattice = mp.Lattice(size=mp.Vector3(nx*ax,ny*ay,nz*az))\n",
    "    #v1 = mp.Vector3(1)\n",
    "\n",
    "    #displace vector to fill the whole supercell\n",
    "    v2 = mp.Vector3(0.5*ax,0.5*ay,0)\n",
    "    v1 = mp.Vector3(0,ay*1.0/3.0,az*1.0/3.0)\n",
    "    v5 = mp.Vector3(ax*0.5,ay*5.0/6.0,az*1.0/3.0)\n",
    "    v3 = mp.Vector3(ax*0.5,ay*1.0/6.0,az*2.0/3.0)\n",
    "    v4 = mp.Vector3(0,ay*2.0/3.0,az*2.0/3.0)\n",
    "\n",
    "    m = mp.Medium(epsilon=eps)\n",
    "    #center of the four supercell rod\n",
    "    c1 = mp.Vector3(0,-math.sqrt(6)/12,-hs/2)\n",
    "    c2 = mp.Vector3(math.sqrt(2)/8,math.sqrt(6)/24,-hs/2)\n",
    "    c3 = mp.Vector3(-math.sqrt(2)/8,math.sqrt(6)/24,-hs/2)\n",
    "    c4 = mp.Vector3(0,0,L/2)\n",
    "    geometry = [mp.Cylinder(center=c1,radius=r, material=m, height=L, axis=c1),\n",
    "            mp.Cylinder(center=c2,radius=r, material=m, height=L, axis=c2),\n",
    "            mp.Cylinder(center=c3,radius=r, material=m, height=L, axis=c3),\n",
    "            mp.Cylinder(center=c4,radius=r, material=m, height=L, axis=c4),\n",
    "            mp.Cylinder(center=c1+v1,radius=r, material=m, height=L, axis=c1),\n",
    "            mp.Cylinder(center=c2+v1,radius=r, material=m, height=L, axis=c2),\n",
    "            mp.Cylinder(center=c3+v1,radius=r, material=m, height=L, axis=c3),\n",
    "            mp.Cylinder(center=c4+v1,radius=r, material=m, height=L, axis=c4),\n",
    "            mp.Cylinder(center=c1+v2,radius=r, material=m, height=L, axis=c1),\n",
    "            mp.Cylinder(center=c2+v2,radius=r, material=m, height=L, axis=c2),\n",
    "            mp.Cylinder(center=c3+v2,radius=r, material=m, height=L, axis=c3),\n",
    "            mp.Cylinder(center=c4+v2,radius=r, material=m, height=L, axis=c4),\n",
    "            mp.Cylinder(center=c1+v3,radius=r, material=m, height=L, axis=c1),\n",
    "            mp.Cylinder(center=c2+v3,radius=r, material=m, height=L, axis=c2),\n",
    "            mp.Cylinder(center=c3+v3,radius=r, material=m, height=L, axis=c3),\n",
    "            mp.Cylinder(center=c4+v3,radius=r, material=m, height=L, axis=c4),\n",
    "            mp.Cylinder(center=c1+v4,radius=r, material=m, height=L, axis=c1),\n",
    "            mp.Cylinder(center=c2+v4,radius=r, material=m, height=L, axis=c2),\n",
    "            mp.Cylinder(center=c3+v4,radius=r, material=m, height=L, axis=c3),\n",
    "            mp.Cylinder(center=c4+v4,radius=r, material=m, height=L, axis=c4),\n",
    "            mp.Cylinder(center=c1+v5,radius=r, material=m, height=L, axis=c1),\n",
    "            mp.Cylinder(center=c2+v5,radius=r, material=m, height=L, axis=c2),\n",
    "            mp.Cylinder(center=c3+v5,radius=r, material=m, height=L, axis=c3),\n",
    "            mp.Cylinder(center=c4+v5,radius=r, material=m, height=L, axis=c4)]\n",
    "\n",
    "    geometry = mp.geometric_objects_lattice_duplicates(geometry_lattice, geometry, ax,ay,az)\n",
    "    geometry.append(mp.Block(center=mp.Vector3(0,0, (nz*az+pad)/2.0), size=mp.Vector3(nx*ax, ny*ay, pad),material=mp.air))\n",
    "    geometry.append(mp.Block(center=mp.Vector3(0,0,-(nz*az+pad)/2.0), size=mp.Vector3(nx*ax, ny*ay, pad),material=mp.air))\n",
    "    geometry.append(mp.Block(center=mp.Vector3( (nx*ax+pad)/2.0,0,0), size=mp.Vector3(pad, ny*ay, nz*az),material=mp.air))\n",
    "    geometry.append(mp.Block(center=mp.Vector3(-(nx*ax+pad)/2.0,0,0), size=mp.Vector3(pad, ny*ay, nz*az),material=mp.air))\n",
    "    \n",
    "    geometry.append(mp.Block(center=mp.Vector3( (nx*ax+pad)/2.0,0, (nz*az+pad)/2.0), size=mp.Vector3(pad, ny*ay, pad),material=mp.air))\n",
    "    geometry.append(mp.Block(center=mp.Vector3(-(nx*ax+pad)/2.0,0, (nz*az+pad)/2.0), size=mp.Vector3(pad, ny*ay, pad),material=mp.air))\n",
    "    geometry.append(mp.Block(center=mp.Vector3( (nx*ax+pad)/2.0,0,-(nz*az+pad)/2.0), size=mp.Vector3(pad, ny*ay, pad),material=mp.air))\n",
    "    geometry.append(mp.Block(center=mp.Vector3(-(nx*ax+pad)/2.0,0,-(nz*az+pad)/2.0), size=mp.Vector3(pad, ny*az, pad),material=mp.air))\n",
    "    \n",
    "    geometry.append(mp.Block(center=mp.Vector3(0, (ny*ay+pad)/2.0,0), size=mp.Vector3(nx*ax+2*pad, pad, nz*az+2*pad),material=mp.air))\n",
    "    geometry.append(mp.Block(center=mp.Vector3(0,-(ny*ay+pad)/2.0,0), size=mp.Vector3(nx*ax+2*pad, pad, nz*az+2*pad),material=mp.air))\n",
    "    #geometry.append(mp.Cylinder(center=c4,radius=r, material=mp.air, height=L, axis=c4))\n",
    "    return geometry, geometry_lattice"
   ]
  },
  {
   "cell_type": "code",
   "execution_count": null,
   "metadata": {
    "scrolled": true
   },
   "outputs": [],
   "source": [
    "#%%writefile PIT.py\n",
    "import math\n",
    "import meep as mp\n",
    "from meep import mpb\n",
    "num_bands = 15\n",
    "\n",
    "ax = math.sqrt(3)\n",
    "ay = 1.0\n",
    "nx = 3\n",
    "ny = 5\n",
    "geometry = [mp.Cylinder(0.2, material=mp.Medium(epsilon=12)),\n",
    "            mp.Cylinder(center=mp.Vector3(ax/2.0,ay/2.0),radius=0.2, material=mp.Medium(epsilon=12))]\n",
    "geometry_lattice = mp.Lattice(size=mp.Vector3(nx*ax, ny*ay))\n",
    "geometry = mp.geometric_objects_lattice_duplicates(geometry_lattice, geometry,ax,ay,1)\n",
    "#geometry.append(mp.Cylinder(center=mp.Vector3(0.2,0.2),radius=0.2,material=mp.Medium(epsilon=12)))\n",
    "resolution = 20\n",
    "\n",
    "# k_points = [mp.Vector3(),               # Gamma\n",
    "#             mp.Vector3(y=0.5),          # M\n",
    "#             mp.Vector3(-1 / 3, 1 / 3),  # K\n",
    "#             mp.Vector3()]               # Gamma\n",
    "# k_points = mp.interpolate(4, k_points)\n",
    "# ms = mpb.ModeSolver(num_bands=num_bands,\n",
    "#                     k_points=k_points,\n",
    "#                     geometry=geometry,\n",
    "#                     geometry_lattice=geometry_lattice,\n",
    "#                     resolution=resolution)\n",
    "# ms.run_tm()\n",
    "# ms.output_epsilon()\n",
    "#!h5tovtk epsilon.h5\n",
    "dpml = 0.5\n",
    "pad = 1.0\n",
    "cell = mp.Vector3(nx*ax+2*(dpml+pad),ny*ay+2*(dpml+pad),0) \n",
    "\n",
    "Th = 2000\n",
    "pml_layers = [mp.PML(dpml)]\n",
    "pos = mp.Vector3(0.3,0.3)\n",
    "\n",
    "fcen = 0.35\n",
    "df = 0.6\n",
    "sources = [mp.Source(src=mp.GaussianSource(fcen, fwidth=df), component=mp.Ez, center=pos)]\n",
    "sim = mp.Simulation(cell_size=cell,\n",
    "                    geometry=geometry, #eps_averaging=False,\n",
    "                    boundary_layers=pml_layers,\n",
    "                    sources=sources,\n",
    "                    resolution=resolution)\n",
    "sim.run(mp.dft_ldos(fcen, df, 100), until_after_sources=Th)"
   ]
  },
  {
   "cell_type": "code",
   "execution_count": null,
   "metadata": {},
   "outputs": [],
   "source": [
    "import numpy as np\n",
    "import matplotlib.pyplot as plt\n",
    "freqs = np.linspace(0.05,0.65,100)\n",
    "plt.plot(freqs,sim.ldos_data)"
   ]
  },
  {
   "cell_type": "code",
   "execution_count": null,
   "metadata": {},
   "outputs": [],
   "source": [
    "#!export PYTHONPATH=/usr/local/lib/python2.7/site-packages/\n",
    "!rm PI.dat\n",
    "!python PIT.py >& PI.out\n",
    "!rm *.h5\n",
    "!rm *.vtk\n",
    "!python PIT.py \n",
    "!h5tovtk PIT-epsilon.h5"
   ]
  },
  {
   "cell_type": "code",
   "execution_count": null,
   "metadata": {},
   "outputs": [],
   "source": [
    "!rm *.dat\n",
    "!grep tmfreqs PI.out >> PI.dat"
   ]
  },
  {
   "cell_type": "code",
   "execution_count": null,
   "metadata": {},
   "outputs": [],
   "source": [
    "%matplotlib inline\n",
    "import csv\n",
    "import numpy as np\n",
    "import matplotlib.pyplot as plt\n",
    "num_bands=8\n",
    "nip_raw = []\n",
    "k_raw = []\n",
    "omega_raw = []\n",
    "\n",
    "with open('PI.dat') as csv_file:\n",
    "    csv_reader = csv.reader(csv_file, delimiter=',')\n",
    "    line_count = 0\n",
    "    next(csv_file)\n",
    "    for row in csv_reader:\n",
    "        nip_raw.append(row[1])\n",
    "        k_raw.append(row[2:5])\n",
    "        omega_raw.append(row[6:num_bands+6])\n",
    "\n",
    "N=np.size(nip_raw)\n",
    "nip=np.zeros((N))\n",
    "k=np.zeros((N,3))\n",
    "omega=np.zeros((N,num_bands))\n",
    "for i in range(0,N):\n",
    "    nip[i] = float(nip_raw[i])\n",
    "    for j in range(0,3):\n",
    "        k[i][j] = float(k_raw[i][j])\n",
    "        \n",
    "    for j in range(0,num_bands):\n",
    "        omega[i][j] = float(omega_raw[i][j])\n",
    "\n",
    "plt.plot(nip,omega[:,:])"
   ]
  },
  {
   "cell_type": "code",
   "execution_count": null,
   "metadata": {},
   "outputs": [],
   "source": [
    "%matplotlib inline\n",
    "import matplotlib.pyplot as plt\n",
    "plt.plot(1,2)\n",
    "plt.show()\n"
   ]
  },
  {
   "cell_type": "code",
   "execution_count": null,
   "metadata": {},
   "outputs": [],
   "source": [
    "!pip install -U matplotlib"
   ]
  },
  {
   "cell_type": "code",
   "execution_count": null,
   "metadata": {
    "collapsed": true
   },
   "outputs": [],
   "source": []
  }
 ],
 "metadata": {
  "kernelspec": {
   "display_name": "Python 2",
   "language": "python",
   "name": "python2"
  },
  "language_info": {
   "codemirror_mode": {
    "name": "ipython",
    "version": 2
   },
   "file_extension": ".py",
   "mimetype": "text/x-python",
   "name": "python",
   "nbconvert_exporter": "python",
   "pygments_lexer": "ipython2",
   "version": "2.7.10"
  }
 },
 "nbformat": 4,
 "nbformat_minor": 2
}
