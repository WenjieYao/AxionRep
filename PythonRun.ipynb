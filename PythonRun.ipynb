{
 "cells": [
  {
   "cell_type": "code",
   "execution_count": 20,
   "metadata": {},
   "outputs": [
    {
     "name": "stdout",
     "output_type": "stream",
     "text": [
      "Initializing eigensolver data\n",
      "Computing 1 bands with 1e-07 tolerance\n",
      "     cylinder, center = (0,0,0)\n",
      "          radius 0.0725, height 0.433013, axis (0.57735, 0.57735, 0.57735)\n",
      "     cylinder, center = (0.5,0,0)\n",
      "          radius 0.0725, height 0.433013, axis (1.73205, -0.57735, -0.57735)\n",
      "     cylinder, center = (0,0.5,0)\n",
      "          radius 0.0725, height 0.433013, axis (-0.57735, 1.73205, -0.57735)\n",
      "     cylinder, center = (0,0,0.5)\n",
      "          radius 0.0725, height 0.433013, axis (-0.57735, -0.57735, 1.73205)\n",
      "17 k-points\n",
      "  Vector3<0.0, 0.0, 0.0>\n",
      "  Vector3<0.0, 0.25, 0.25>\n",
      "  Vector3<0.0, 0.5, 0.5>\n",
      "  Vector3<0.25, 0.5625, 0.5625>\n",
      "  Vector3<0.5, 0.625, 0.625>\n",
      "  Vector3<0.5, 0.5625, 0.5625>\n",
      "  Vector3<0.5, 0.5, 0.5>\n",
      "  Vector3<0.25, 0.25, 0.25>\n",
      "  Vector3<0.0, 0.0, 0.0>\n",
      "  Vector3<0.0, 0.25, 0.25>\n",
      "  Vector3<0.0, 0.5, 0.5>\n",
      "  Vector3<0.125, 0.625, 0.5>\n",
      "  Vector3<0.25, 0.75, 0.5>\n",
      "  Vector3<0.3125, 0.75, 0.4375>\n",
      "  Vector3<0.375, 0.75, 0.375>\n",
      "  Vector3<0.1875, 0.375, 0.1875>\n",
      "  Vector3<0.0, 0.0, 0.0>\n",
      "elapsed time for initialization: 0.0289659500122\n",
      "elapsed time for k point: 0.000381946563721\n",
      "elapsed time for k point: 0.0844287872314\n",
      "elapsed time for k point: 0.0603699684143\n",
      "elapsed time for k point: 0.0903029441833\n",
      "elapsed time for k point: 0.0534019470215\n",
      "elapsed time for k point: 0.0571839809418\n",
      "elapsed time for k point: 0.0536069869995\n",
      "elapsed time for k point: 0.0365619659424\n",
      "elapsed time for k point: 0.000214099884033\n",
      "elapsed time for k point: 0.0778260231018\n",
      "elapsed time for k point: 0.0524320602417\n",
      "elapsed time for k point: 0.0529320240021\n",
      "elapsed time for k point: 0.0531702041626\n",
      "elapsed time for k point: 0.0740151405334\n",
      "elapsed time for k point: 0.0503587722778\n",
      "elapsed time for k point: 0.0340230464935\n",
      "elapsed time for k point: 0.000242948532104\n",
      "Band 1 range: 0.0 at Vector3<0.0, 0.0, 0.0> to 0.416171408548 at Vector3<0.25, 0.75, 0.5>\n",
      "total elapsed time for run: 0.864748954773\n",
      "done\n",
      "Outputting epsilon.h5...\n"
     ]
    }
   ],
   "source": [
    "#normal diamond structure\n",
    "#%%writefile PIT.py\n",
    "import math\n",
    "import meep as mp\n",
    "from meep import mpb\n",
    "#!rm *.h5\n",
    "num_bands = 1\n",
    "\n",
    "#k_points = [mp.Vector3(),\n",
    "#            mp.Vector3(0.0  ,0.5  ,0.5  ),  #X\n",
    "#            mp.Vector3(0.0  ,0.625,0.375),  #U\n",
    "#            mp.Vector3(0.0  ,0.5  ,0.0  ),  #L\n",
    "#            mp.Vector3(0.0  ,0.0  ,0.0  ),  #Gamma\n",
    "#            mp.Vector3(0.0  ,0.5  ,0.5  ),  #X\n",
    "#            mp.Vector3(0.25 ,0.75 ,0.5  ),  #W\n",
    "#            mp.Vector3(0.375,0.75 ,0.375),  #K\n",
    "#            mp.Vector3()]          \n",
    "\n",
    "k_points = [mp.Vector3(),\n",
    "            mp.Vector3(0.0  ,0.5  ,0.5  ),  #X\n",
    "            mp.Vector3(0.5  ,0.625,0.625),  #U\n",
    "            mp.Vector3(0.5  ,0.5  ,0.5  ),  #L\n",
    "            mp.Vector3(0.0  ,0.0  ,0.0  ),  #Gamma\n",
    "            mp.Vector3(0.0  ,0.5  ,0.5  ),  #X\n",
    "            mp.Vector3(0.25 ,0.75 ,0.5  ),  #W\n",
    "            mp.Vector3(0.375,0.75 ,0.375),  #K\n",
    "            mp.Vector3()]  \n",
    "\n",
    "res0 = mp.Vector3(12,20,28)\n",
    "n0 = 1.5\n",
    "tol = 0.001\n",
    "mesh_size = 3\n",
    "L = math.sqrt(3)/4\n",
    "n = math.sqrt(32)\n",
    "r = 0.0725\n",
    "m = mp.Medium(epsilon=n*n)\n",
    "\n",
    "geometry = [mp.Cylinder(center=mp.Vector3(0,0,0),radius=r, material=m, height=L, axis=mp.Vector3(1,1,1)),\n",
    "           mp.Cylinder(center=mp.Vector3(0.5,0,0),radius=r, material=m, height=L, axis=mp.Vector3(3,-1,-1)),\n",
    "           mp.Cylinder(center=mp.Vector3(0,0.5,0),radius=r, material=m, height=L, axis=mp.Vector3(-1,3,-1)),\n",
    "           mp.Cylinder(center=mp.Vector3(0,0,0.5),radius=r, material=m, height=L, axis=mp.Vector3(-1,-1,3))]\n",
    "\n",
    "a_x = math.sqrt(0.5)\n",
    "geometry_lattice = mp.Lattice(\n",
    "    basis_size=mp.Vector3(a_x,a_x,a_x),\n",
    "    basis1=mp.Vector3(0,1,1),\n",
    "    basis2=mp.Vector3(1,0,1),\n",
    "    basis3=mp.Vector3(1,1,0))\n",
    "\n",
    "#sqrt_half = math.sqrt(0.5)\n",
    "#geometry_lattice = mp.Lattice(\n",
    "#    basis_size=mp.Vector3(sqrt_half, sqrt_half, sqrt_half),\n",
    "#    basis1=mp.Vector3(0, 1, 1),\n",
    "#    basis2=mp.Vector3(1, 0, 1),\n",
    "#    basis3=mp.Vector3(1, 1)\n",
    "#)\n",
    "k_points = mp.interpolate(1, k_points)\n",
    "\n",
    "ms = mpb.ModeSolver(num_bands=num_bands,\n",
    "                    k_points=k_points,\n",
    "                    geometry=geometry,\n",
    "                    geometry_lattice=geometry_lattice,\n",
    "                    resolution=res0,\n",
    "                    mesh_size = mesh_size)\n",
    "#mpb.ModeSolver.optimize_grid_size()\n",
    "ms.run()\n",
    "ms.output_epsilon()"
   ]
  },
  {
   "cell_type": "code",
   "execution_count": null,
   "metadata": {},
   "outputs": [],
   "source": [
    "ms.band_range_data"
   ]
  },
  {
   "cell_type": "code",
   "execution_count": null,
   "metadata": {},
   "outputs": [],
   "source": [
    "!rm PI.dat\n",
    "!python PIT.py >& PI.out\n",
    "!grep freqs PI.out >> PI.dat"
   ]
  },
  {
   "cell_type": "code",
   "execution_count": null,
   "metadata": {},
   "outputs": [],
   "source": [
    "!rm *.h5\n",
    "!rm *.vtk\n",
    "!python PIT.py \n",
    "!h5tovtk PIT-epsilon.h5"
   ]
  },
  {
   "cell_type": "code",
   "execution_count": null,
   "metadata": {},
   "outputs": [],
   "source": [
    "import csv\n",
    "import numpy as np\n",
    "import matplotlib.pyplot as plt\n",
    "num_bands=3\n",
    "nip_raw = []\n",
    "k_raw = []\n",
    "omega_raw = []\n",
    "\n",
    "with open('PI.dat') as csv_file:\n",
    "    csv_reader = csv.reader(csv_file, delimiter=',')\n",
    "    line_count = 0\n",
    "    next(csv_file)\n",
    "    for row in csv_reader:\n",
    "        nip_raw.append(row[1])\n",
    "        k_raw.append(row[2:5])\n",
    "        omega_raw.append(row[6:num_bands+6])\n",
    "        "
   ]
  },
  {
   "cell_type": "code",
   "execution_count": null,
   "metadata": {},
   "outputs": [],
   "source": [
    "N=np.size(nip_raw)\n",
    "nip=np.zeros((N))\n",
    "k=np.zeros((N,3))\n",
    "omega=np.zeros((N,num_bands))\n",
    "for i in range(0,N):\n",
    "    nip[i] = float(nip_raw[i])\n",
    "    for j in range(0,3):\n",
    "        k[i][j] = float(k_raw[i][j])\n",
    "        \n",
    "    for j in range(0,num_bands):\n",
    "        omega[i][j] = float(omega_raw[i][j])\n",
    "\n",
    "plt.plot(nip,omega[:,:])"
   ]
  },
  {
   "cell_type": "code",
   "execution_count": 3,
   "metadata": {},
   "outputs": [
    {
     "name": "stdout",
     "output_type": "stream",
     "text": [
      "Overwriting PIT.py\n"
     ]
    }
   ],
   "source": [
    "%%writefile PIT.py\n",
    "import math\n",
    "import meep as mp\n",
    "from meep import mpb\n",
    "num_bands = 10\n",
    "ax = math.sqrt(2)/2.0\n",
    "ay = math.sqrt(6)/2.0\n",
    "az = math.sqrt(3)\n",
    "L = math.sqrt(3)/4.0\n",
    "hs = math.sqrt(3)/12.0\n",
    "na = 1\n",
    "r = 0.0725\n",
    "geometry_lattice = mp.Lattice(size=mp.Vector3(na,na,na),\n",
    "                              basis_size=mp.Vector3(ax,ay,az))\n",
    "#v1 = mp.Vector3(1)\n",
    "\n",
    "v2 = mp.Vector3(0.5,0.5,0)\n",
    "v1 = mp.Vector3(0,1.0/3.0,1.0/3.0)\n",
    "v5 = mp.Vector3(0.5,5.0/6.0,1.0/3.0)\n",
    "v3 = mp.Vector3(0.5,1.0/6.0,2.0/3.0)\n",
    "v4 = mp.Vector3(0,2.0/3.0,2.0/3.0)\n",
    "res0 = mp.Vector3(12,20,28)\n",
    "n0 = 1.5\n",
    "mesh_size = 3\n",
    "n = math.sqrt(32)\n",
    "r = 0.0725\n",
    "m = mp.Medium(epsilon=n*n)\n",
    "c1 = mp.Vector3(0,-math.sqrt(6)/12/ay,-hs/2/az)\n",
    "c2 = mp.Vector3(math.sqrt(2)/8/ax,math.sqrt(6)/24/ay,-hs/2/az)\n",
    "c3 = mp.Vector3(-math.sqrt(2)/8/ax,math.sqrt(6)/24/ay,-hs/2/az)\n",
    "c4 = mp.Vector3(0,0,L/2/az)\n",
    "geometry = [mp.Cylinder(center=c1,radius=r, material=m, height=L, axis=c1),\n",
    "            mp.Cylinder(center=c2,radius=r, material=m, height=L, axis=c2),\n",
    "            mp.Cylinder(center=c3,radius=r, material=m, height=L, axis=c3),\n",
    "            mp.Cylinder(center=c4,radius=r, material=m, height=L, axis=c4),\n",
    "            mp.Cylinder(center=c1+v1,radius=r, material=m, height=L, axis=c1),\n",
    "            mp.Cylinder(center=c2+v1,radius=r, material=m, height=L, axis=c2),\n",
    "            mp.Cylinder(center=c3+v1,radius=r, material=m, height=L, axis=c3),\n",
    "            mp.Cylinder(center=c4+v1,radius=r, material=m, height=L, axis=c4),\n",
    "            mp.Cylinder(center=c1+v2,radius=r, material=m, height=L, axis=c1),\n",
    "            mp.Cylinder(center=c2+v2,radius=r, material=m, height=L, axis=c2),\n",
    "            mp.Cylinder(center=c3+v2,radius=r, material=m, height=L, axis=c3),\n",
    "            mp.Cylinder(center=c4+v2,radius=r, material=m, height=L, axis=c4),\n",
    "            mp.Cylinder(center=c1+v3,radius=r, material=m, height=L, axis=c1),\n",
    "            mp.Cylinder(center=c2+v3,radius=r, material=m, height=L, axis=c2),\n",
    "            mp.Cylinder(center=c3+v3,radius=r, material=m, height=L, axis=c3),\n",
    "            mp.Cylinder(center=c4+v3,radius=r, material=m, height=L, axis=c4),\n",
    "            mp.Cylinder(center=c1+v4,radius=r, material=m, height=L, axis=c1),\n",
    "            mp.Cylinder(center=c2+v4,radius=r, material=m, height=L, axis=c2),\n",
    "            mp.Cylinder(center=c3+v4,radius=r, material=m, height=L, axis=c3),\n",
    "            mp.Cylinder(center=c4+v4,radius=r, material=m, height=L, axis=c4),\n",
    "            mp.Cylinder(center=c1+v5,radius=r, material=m, height=L, axis=c1),\n",
    "            mp.Cylinder(center=c2+v5,radius=r, material=m, height=L, axis=c2),\n",
    "            mp.Cylinder(center=c3+v5,radius=r, material=m, height=L, axis=c3),\n",
    "            mp.Cylinder(center=c4+v5,radius=r, material=m, height=L, axis=c4)]\n",
    "\n",
    "#geometry2 = mp.geometric_objects_duplicates(v1,1,1,geometry_unit)\n",
    "#geometry3 = mp.geometric_objects_duplicates(mp.Vector3(0,math.sqrt(6)/2/ay,0),1,1,geometry_unit)\n",
    "#geometry4 = mp.geometric_objects_duplicates(v3,1,1,geometry_unit)\n",
    "#geometry5 = mp.geometric_objects_duplicates(v3,1,1,geometry2)\n",
    "#geometry6 = mp.geometric_objects_duplicates(v2,1,1,geometry4)\n",
    "geometry = mp.geometric_objects_lattice_duplicates(geometry_lattice, geometry)\n",
    "\n",
    "#k_points = [mp.Vector3(),\n",
    "#            mp.Vector3(0,0.5),\n",
    "#            mp.Vector3(0.5,0.5),\n",
    "#            mp.Vector3(),\n",
    "#            mp.Vector3(0,0.5),\n",
    "#            mp.Vector3(0.5,0.5,0.5),\n",
    "#            mp.Vector3()]          # Gamma\n",
    "#k_points = mp.interpolate(4, k_points)\n",
    "k_points = [mp.Vector3()]\n",
    "ms = mpb.ModeSolver(num_bands=num_bands,\n",
    "                    k_points=k_points,\n",
    "                    geometry=geometry,\n",
    "                    geometry_lattice=geometry_lattice,\n",
    "                    resolution=2*res0,\n",
    "                    mesh_size = mesh_size)\n",
    "ms.geometry = ms.geometry.append([mp.Cylinder(center=c1,radius=r, material=mp.air, height=L, axis=c1)])\n",
    "#mpb.ModeSolver.optimize_grid_size()\n",
    "ms.run()\n",
    "ms.output_epsilon()\n",
    "#!h5tovtk epsilon.h5"
   ]
  },
  {
   "cell_type": "code",
   "execution_count": 11,
   "metadata": {},
   "outputs": [
    {
     "data": {
      "text/plain": [
       "[<matplotlib.lines.Line2D at 0x11cfd1110>,\n",
       " <matplotlib.lines.Line2D at 0x11cfd11d0>,\n",
       " <matplotlib.lines.Line2D at 0x11cfd1290>,\n",
       " <matplotlib.lines.Line2D at 0x11cfd1350>,\n",
       " <matplotlib.lines.Line2D at 0x11cfd1410>,\n",
       " <matplotlib.lines.Line2D at 0x11cfd14d0>,\n",
       " <matplotlib.lines.Line2D at 0x11cfd1590>,\n",
       " <matplotlib.lines.Line2D at 0x11cfd1650>,\n",
       " <matplotlib.lines.Line2D at 0x11cfd1710>,\n",
       " <matplotlib.lines.Line2D at 0x11cfd17d0>]"
      ]
     },
     "execution_count": 11,
     "metadata": {},
     "output_type": "execute_result"
    },
    {
     "data": {
      "image/png": "[encoded data removed]",
      "text/plain": [
       "<Figure size 432x288 with 1 Axes>"
      ]
     },
     "metadata": {
      "needs_background": "light"
     },
     "output_type": "display_data"
    }
   ],
   "source": [
    "#!python PIT.py >& PI.out\n",
    "#!rm PI.dat\n",
    "#!rm *.h5\n",
    "!grep freqs PI.out >> PI.dat\n",
    "\n",
    "import csv\n",
    "import numpy as np\n",
    "import matplotlib.pyplot as plt\n",
    "num_bands=10\n",
    "nip_raw = []\n",
    "k_raw = []\n",
    "omega_raw = []\n",
    "\n",
    "with open('PI.dat') as csv_file:\n",
    "    csv_reader = csv.reader(csv_file, delimiter=',')\n",
    "    line_count = 0\n",
    "    next(csv_file)\n",
    "    for row in csv_reader:\n",
    "        nip_raw.append(row[1])\n",
    "        k_raw.append(row[2:5])\n",
    "        omega_raw.append(row[6:num_bands+6])\n",
    "        \n",
    "N=np.size(nip_raw)\n",
    "nip=np.zeros((N))\n",
    "k=np.zeros((N,3))\n",
    "omega=np.zeros((N,num_bands))\n",
    "for i in range(0,N):\n",
    "    nip[i] = float(nip_raw[i])\n",
    "    for j in range(0,3):\n",
    "        k[i][j] = float(k_raw[i][j])\n",
    "        \n",
    "    for j in range(0,num_bands):\n",
    "        omega[i][j] = float(omega_raw[i][j])\n",
    "\n",
    "plt.plot(nip,omega[:,:])"
   ]
  },
  {
   "cell_type": "code",
   "execution_count": 7,
   "metadata": {},
   "outputs": [
    {
     "data": {
      "text/plain": [
       "[<matplotlib.lines.Line2D at 0x11cdaf150>,\n",
       " <matplotlib.lines.Line2D at 0x11cdaf210>,\n",
       " <matplotlib.lines.Line2D at 0x11cdaf2d0>]"
      ]
     },
     "execution_count": 7,
     "metadata": {},
     "output_type": "execute_result"
    },
    {
     "data": {
      "image/png": "[encoded data removed]",
      "text/plain": [
       "<Figure size 432x288 with 1 Axes>"
      ]
     },
     "metadata": {
      "needs_background": "light"
     },
     "output_type": "display_data"
    }
   ],
   "source": [
    "plt.plot(nip,omega[:,:])"
   ]
  },
  {
   "cell_type": "code",
   "execution_count": null,
   "metadata": {},
   "outputs": [],
   "source": [
    "!python PIT.py \n",
    "!h5tovtk PIT-epsilon.h5"
   ]
  },
  {
   "cell_type": "code",
   "execution_count": 21,
   "metadata": {},
   "outputs": [
    {
     "data": {
      "text/plain": [
       "Vector3<1.0, 1.0, 0.0>"
      ]
     },
     "execution_count": 21,
     "metadata": {},
     "output_type": "execute_result"
    }
   ],
   "source": [
    "mp.Vector3(1)+mp.Vector3(0,1)"
   ]
  },
  {
   "cell_type": "code",
   "execution_count": null,
   "metadata": {},
   "outputs": [],
   "source": []
  }
 ],
 "metadata": {
  "@webio": {
   "lastCommId": null,
   "lastKernelId": null
  },
  "kernelspec": {
   "display_name": "Python 2",
   "language": "python",
   "name": "python2"
  },
  "language_info": {
   "codemirror_mode": {
    "name": "ipython",
    "version": 2
   },
   "file_extension": ".py",
   "mimetype": "text/x-python",
   "name": "python",
   "nbconvert_exporter": "python",
   "pygments_lexer": "ipython2",
   "version": "2.7.16"
  }
 },
 "nbformat": 4,
 "nbformat_minor": 2
}
