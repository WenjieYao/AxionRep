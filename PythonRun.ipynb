{
 "cells": [
  {
   "cell_type": "code",
   "execution_count": 7,
   "metadata": {},
   "outputs": [
    {
     "name": "stdout",
     "output_type": "stream",
     "text": [
      "Overwriting PIT.py\n"
     ]
    }
   ],
   "source": [
    "%%writefile PIT.py\n",
    "import math\n",
    "import meep as mp\n",
    "from meep import mpb\n",
    "\n",
    "num_bands = 3\n",
    "\n",
    "k_points = [mp.Vector3(0.0  ,0.5  ,0.5  ),\n",
    "            mp.Vector3(0.0  ,0.625,0.375),       \n",
    "            mp.Vector3(0.0  ,0.5  ,0.0  ),  \n",
    "            mp.Vector3(0.0  ,0.0  ,0.0  ),\n",
    "            mp.Vector3(0.0  ,0.5  ,0.5  ),\n",
    "            mp.Vector3(0.25 ,0.75 ,0.5  ),\n",
    "            mp.Vector3(0.375,0.75 ,0.375)]          \n",
    "\n",
    "res0 = 16\n",
    "n0 = 1.5\n",
    "tol = 0.001\n",
    "mesh_size = 3\n",
    "L = math.sqrt(3)/4\n",
    "n = math.sqrt(32)\n",
    "r = 0.0725\n",
    "m = mp.Medium(epsilon=n*n)\n",
    "\n",
    "geometry = [mp.Cylinder(center=mp.Vector3(0,0,0),radius=r, material=m, height=L, axis=mp.Vector3(1,1,1)),\n",
    "           mp.Cylinder(center=mp.Vector3(0.5,0,0),radius=r, material=m, height=L, axis=mp.Vector3(3,-1,-1)),\n",
    "           mp.Cylinder(center=mp.Vector3(0,0.5,0),radius=r, material=m, height=L, axis=mp.Vector3(-1,3,-1)),\n",
    "           mp.Cylinder(center=mp.Vector3(0,0,0.5),radius=r, material=m, height=L, axis=mp.Vector3(-1,-1,3))]\n",
    "\n",
    "geometry_lattice = mp.Lattice(size=mp.Vector3(math.sqrt(0.5), math.sqrt(0.5),math.sqrt(0.5)),\n",
    "                                 basis1=mp.Vector3(0,1,1),\n",
    "                                 basis2=mp.Vector3(1,0,1),\n",
    "                                 basis3=mp.Vector3(1,1,0))\n",
    "\n",
    "k_points = mp.interpolate(9, k_points)\n",
    "\n",
    "ms = mpb.ModeSolver(num_bands=num_bands,\n",
    "                    k_points=k_points,\n",
    "                    geometry=geometry,\n",
    "                    geometry_lattice=geometry_lattice,\n",
    "                    resolution=res0,\n",
    "                    mesh_size = mesh_size)\n",
    "#mpb.ModeSolver.optimize_grid_size()\n",
    "print(\"Square lattice of rods: TE bands\")\n",
    "ms.run()"
   ]
  },
  {
   "cell_type": "code",
   "execution_count": 8,
   "metadata": {},
   "outputs": [],
   "source": [
    "!python PIT.py >& PI.out"
   ]
  },
  {
   "cell_type": "code",
   "execution_count": 9,
   "metadata": {},
   "outputs": [],
   "source": [
    "!rm PI.dat\n",
    "!grep freqs PI.out >> PI.dat"
   ]
  },
  {
   "cell_type": "code",
   "execution_count": 10,
   "metadata": {},
   "outputs": [],
   "source": [
    "import csv\n",
    "import numpy as np\n",
    "import matplotlib.pyplot as plt\n",
    "num_bands=3\n",
    "nip_raw = []\n",
    "k_raw = []\n",
    "omega_raw = []\n",
    "\n",
    "with open('PI.dat') as csv_file:\n",
    "    csv_reader = csv.reader(csv_file, delimiter=',')\n",
    "    line_count = 0\n",
    "    next(csv_file)\n",
    "    for row in csv_reader:\n",
    "        nip_raw.append(row[1])\n",
    "        k_raw.append(row[2:5])\n",
    "        omega_raw.append(row[6:num_bands+6])\n",
    "        "
   ]
  },
  {
   "cell_type": "code",
   "execution_count": 11,
   "metadata": {},
   "outputs": [
    {
     "data": {
      "text/plain": [
       "[<matplotlib.lines.Line2D at 0x11292e3d0>,\n",
       " <matplotlib.lines.Line2D at 0x11292e490>,\n",
       " <matplotlib.lines.Line2D at 0x11292e550>]"
      ]
     },
     "execution_count": 11,
     "metadata": {},
     "output_type": "execute_result"
    },
    {
     "data": {
      "image/png": "[encoded data removed]",
      "text/plain": [
       "<Figure size 432x288 with 1 Axes>"
      ]
     },
     "metadata": {
      "needs_background": "light"
     },
     "output_type": "display_data"
    }
   ],
   "source": [
    "N=np.size(nip_raw)\n",
    "nip=np.zeros((N))\n",
    "k=np.zeros((N,3))\n",
    "omega=np.zeros((N,num_bands))\n",
    "for i in range(0,N):\n",
    "    nip[i] = float(nip_raw[i])\n",
    "    for j in range(0,3):\n",
    "        k[i][j] = float(k_raw[i][j])\n",
    "        \n",
    "    for j in range(0,num_bands):\n",
    "        omega[i][j] = float(omega_raw[i][j])\n",
    "\n",
    "plt.plot(nip,omega[:,:])"
   ]
  },
  {
   "cell_type": "code",
   "execution_count": 6,
   "metadata": {},
   "outputs": [
    {
     "data": {
      "text/plain": [
       "array([[0.    , 0.5   , 0.5   ],\n",
       "       [0.    , 0.5125, 0.4875],\n",
       "       [0.    , 0.525 , 0.475 ],\n",
       "       [0.    , 0.5375, 0.4625],\n",
       "       [0.    , 0.55  , 0.45  ],\n",
       "       [0.    , 0.5625, 0.4375],\n",
       "       [0.    , 0.575 , 0.425 ],\n",
       "       [0.    , 0.5875, 0.4125],\n",
       "       [0.    , 0.6   , 0.4   ],\n",
       "       [0.    , 0.6125, 0.3875],\n",
       "       [0.    , 0.625 , 0.375 ],\n",
       "       [0.    , 0.6125, 0.3375],\n",
       "       [0.    , 0.6   , 0.3   ],\n",
       "       [0.    , 0.5875, 0.2625],\n",
       "       [0.    , 0.575 , 0.225 ],\n",
       "       [0.    , 0.5625, 0.1875],\n",
       "       [0.    , 0.55  , 0.15  ],\n",
       "       [0.    , 0.5375, 0.1125],\n",
       "       [0.    , 0.525 , 0.075 ],\n",
       "       [0.    , 0.5125, 0.0375],\n",
       "       [0.    , 0.5   , 0.    ],\n",
       "       [0.    , 0.45  , 0.    ],\n",
       "       [0.    , 0.4   , 0.    ],\n",
       "       [0.    , 0.35  , 0.    ],\n",
       "       [0.    , 0.3   , 0.    ],\n",
       "       [0.    , 0.25  , 0.    ],\n",
       "       [0.    , 0.2   , 0.    ],\n",
       "       [0.    , 0.15  , 0.    ],\n",
       "       [0.    , 0.1   , 0.    ],\n",
       "       [0.    , 0.05  , 0.    ],\n",
       "       [0.    , 0.    , 0.    ],\n",
       "       [0.    , 0.05  , 0.05  ],\n",
       "       [0.    , 0.1   , 0.1   ],\n",
       "       [0.    , 0.15  , 0.15  ],\n",
       "       [0.    , 0.2   , 0.2   ],\n",
       "       [0.    , 0.25  , 0.25  ],\n",
       "       [0.    , 0.3   , 0.3   ],\n",
       "       [0.    , 0.35  , 0.35  ],\n",
       "       [0.    , 0.4   , 0.4   ],\n",
       "       [0.    , 0.45  , 0.45  ],\n",
       "       [0.    , 0.5   , 0.5   ],\n",
       "       [0.025 , 0.525 , 0.5   ],\n",
       "       [0.05  , 0.55  , 0.5   ],\n",
       "       [0.075 , 0.575 , 0.5   ],\n",
       "       [0.1   , 0.6   , 0.5   ],\n",
       "       [0.125 , 0.625 , 0.5   ],\n",
       "       [0.15  , 0.65  , 0.5   ],\n",
       "       [0.175 , 0.675 , 0.5   ],\n",
       "       [0.2   , 0.7   , 0.5   ],\n",
       "       [0.225 , 0.725 , 0.5   ],\n",
       "       [0.25  , 0.75  , 0.5   ],\n",
       "       [0.2625, 0.75  , 0.4875],\n",
       "       [0.275 , 0.75  , 0.475 ],\n",
       "       [0.2875, 0.75  , 0.4625],\n",
       "       [0.3   , 0.75  , 0.45  ],\n",
       "       [0.3125, 0.75  , 0.4375],\n",
       "       [0.325 , 0.75  , 0.425 ],\n",
       "       [0.3375, 0.75  , 0.4125],\n",
       "       [0.35  , 0.75  , 0.4   ],\n",
       "       [0.3625, 0.75  , 0.3875],\n",
       "       [0.375 , 0.75  , 0.375 ],\n",
       "       [0.3375, 0.675 , 0.3375],\n",
       "       [0.3   , 0.6   , 0.3   ],\n",
       "       [0.2625, 0.525 , 0.2625],\n",
       "       [0.225 , 0.45  , 0.225 ],\n",
       "       [0.1875, 0.375 , 0.1875],\n",
       "       [0.15  , 0.3   , 0.15  ],\n",
       "       [0.1125, 0.225 , 0.1125],\n",
       "       [0.075 , 0.15  , 0.075 ],\n",
       "       [0.0375, 0.075 , 0.0375],\n",
       "       [0.    , 0.    , 0.    ]])"
      ]
     },
     "execution_count": 6,
     "metadata": {},
     "output_type": "execute_result"
    }
   ],
   "source": [
    "k"
   ]
  },
  {
   "cell_type": "code",
   "execution_count": null,
   "metadata": {},
   "outputs": [],
   "source": []
  }
 ],
 "metadata": {
  "kernelspec": {
   "display_name": "Python 2",
   "language": "python",
   "name": "python2"
  },
  "language_info": {
   "codemirror_mode": {
    "name": "ipython",
    "version": 2
   },
   "file_extension": ".py",
   "mimetype": "text/x-python",
   "name": "python",
   "nbconvert_exporter": "python",
   "pygments_lexer": "ipython2",
   "version": "2.7.16"
  }
 },
 "nbformat": 4,
 "nbformat_minor": 2
}
