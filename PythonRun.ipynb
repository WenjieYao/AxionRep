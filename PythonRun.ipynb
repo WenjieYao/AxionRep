{
 "cells": [
  {
   "cell_type": "code",
   "execution_count": 3,
   "metadata": {},
   "outputs": [
    {
     "name": "stdout",
     "output_type": "stream",
     "text": [
      "Overwriting PIT.py\n"
     ]
    }
   ],
   "source": [
    "%%writefile PIT.py\n",
    "import math\n",
    "import meep as mp\n",
    "from meep import mpb\n",
    "#!rm *.h5\n",
    "num_bands = 3\n",
    "\n",
    "#k_points = [mp.Vector3(),\n",
    "#            mp.Vector3(0.0  ,0.5  ,0.5  ),  #X\n",
    "#            mp.Vector3(0.0  ,0.625,0.375),  #U\n",
    "#            mp.Vector3(0.0  ,0.5  ,0.0  ),  #L\n",
    "#            mp.Vector3(0.0  ,0.0  ,0.0  ),  #Gamma\n",
    "#            mp.Vector3(0.0  ,0.5  ,0.5  ),  #X\n",
    "#            mp.Vector3(0.25 ,0.75 ,0.5  ),  #W\n",
    "#            mp.Vector3(0.375,0.75 ,0.375),  #K\n",
    "#            mp.Vector3()]          \n",
    "\n",
    "k_points = [mp.Vector3(),\n",
    "            mp.Vector3(0.0  ,0.5  ,0.5  ),  #X\n",
    "            mp.Vector3(0.5  ,0.625,0.625),  #U\n",
    "            mp.Vector3(0.5  ,0.5  ,0.5  ),  #L\n",
    "            mp.Vector3(0.0  ,0.0  ,0.0  ),  #Gamma\n",
    "            mp.Vector3(0.0  ,0.5  ,0.5  ),  #X\n",
    "            mp.Vector3(0.25 ,0.75 ,0.5  ),  #W\n",
    "            mp.Vector3(0.375,0.75 ,0.375),  #K\n",
    "            mp.Vector3()]  \n",
    "\n",
    "res0 = 16\n",
    "n0 = 1.5\n",
    "tol = 0.001\n",
    "mesh_size = 3\n",
    "L = math.sqrt(3)/4\n",
    "n = math.sqrt(32)\n",
    "r = 0.0725\n",
    "m = mp.Medium(epsilon=n*n)\n",
    "\n",
    "geometry = [mp.Cylinder(center=mp.Vector3(0,0,0),radius=r, material=m, height=L, axis=mp.Vector3(1,1,1)),\n",
    "           mp.Cylinder(center=mp.Vector3(0.5,0,0),radius=r, material=m, height=L, axis=mp.Vector3(3,-1,-1)),\n",
    "           mp.Cylinder(center=mp.Vector3(0,0.5,0),radius=r, material=m, height=L, axis=mp.Vector3(-1,3,-1)),\n",
    "           mp.Cylinder(center=mp.Vector3(0,0,0.5),radius=r, material=m, height=L, axis=mp.Vector3(-1,-1,3))]\n",
    "\n",
    "#a = math.sqrt(0.5)\n",
    "#geometry_lattice = mp.Lattice(basis-size=mp.Vector3(a,a,a),\n",
    "#                                 basis1=mp.Vector3(0,1,1),\n",
    "#                                 basis2=mp.Vector3(1,0,1),\n",
    "#                                 basis3=mp.Vector3(1,1,0))\n",
    "\n",
    "sqrt_half = math.sqrt(0.5)\n",
    "geometry_lattice = mp.Lattice(\n",
    "    basis_size=mp.Vector3(sqrt_half, sqrt_half, sqrt_half),\n",
    "    basis1=mp.Vector3(0, 1, 1),\n",
    "    basis2=mp.Vector3(1, 0, 1),\n",
    "    basis3=mp.Vector3(1, 1)\n",
    ")\n",
    "k_points = mp.interpolate(4, k_points)\n",
    "\n",
    "ms = mpb.ModeSolver(num_bands=num_bands,\n",
    "                    k_points=k_points,\n",
    "                    geometry=geometry,\n",
    "                    geometry_lattice=geometry_lattice,\n",
    "                    resolution=res0*n/n0,\n",
    "                    mesh_size = mesh_size)\n",
    "#mpb.ModeSolver.optimize_grid_size()\n",
    "ms.run()\n",
    "ms.output_epsilon()"
   ]
  },
  {
   "cell_type": "code",
   "execution_count": null,
   "metadata": {},
   "outputs": [],
   "source": [
    "ms.band_range_data"
   ]
  },
  {
   "cell_type": "code",
   "execution_count": 4,
   "metadata": {},
   "outputs": [],
   "source": [
    "!rm PI.dat\n",
    "!python PIT.py >& PI.out\n",
    "!grep freqs PI.out >> PI.dat"
   ]
  },
  {
   "cell_type": "code",
   "execution_count": null,
   "metadata": {},
   "outputs": [],
   "source": [
    "!rm *.h5\n",
    "!rm *.vtk\n",
    "!python PIT.py \n",
    "!h5tovtk PIT-epsilon.h5"
   ]
  },
  {
   "cell_type": "code",
   "execution_count": null,
   "metadata": {},
   "outputs": [],
   "source": [
    "import csv\n",
    "import numpy as np\n",
    "import matplotlib.pyplot as plt\n",
    "num_bands=3\n",
    "nip_raw = []\n",
    "k_raw = []\n",
    "omega_raw = []\n",
    "\n",
    "with open('PI.dat') as csv_file:\n",
    "    csv_reader = csv.reader(csv_file, delimiter=',')\n",
    "    line_count = 0\n",
    "    next(csv_file)\n",
    "    for row in csv_reader:\n",
    "        nip_raw.append(row[1])\n",
    "        k_raw.append(row[2:5])\n",
    "        omega_raw.append(row[6:num_bands+6])\n",
    "        "
   ]
  },
  {
   "cell_type": "code",
   "execution_count": null,
   "metadata": {},
   "outputs": [],
   "source": [
    "N=np.size(nip_raw)\n",
    "nip=np.zeros((N))\n",
    "k=np.zeros((N,3))\n",
    "omega=np.zeros((N,num_bands))\n",
    "for i in range(0,N):\n",
    "    nip[i] = float(nip_raw[i])\n",
    "    for j in range(0,3):\n",
    "        k[i][j] = float(k_raw[i][j])\n",
    "        \n",
    "    for j in range(0,num_bands):\n",
    "        omega[i][j] = float(omega_raw[i][j])\n",
    "\n",
    "plt.plot(nip,omega[:,:])"
   ]
  },
  {
   "cell_type": "code",
   "execution_count": null,
   "metadata": {},
   "outputs": [],
   "source": [
    "import math\n",
    "import meep as mp\n",
    "from meep import mpb\n",
    "num_bands = 8\n",
    "k_points = [mp.Vector3(),          # Gamma\n",
    "            mp.Vector3(0.5),       # X\n",
    "            mp.Vector3(0.5, 0.5),  # M\n",
    "            mp.Vector3()]          # Gamma\n",
    "k_points = mp.interpolate(4, k_points)\n",
    "geometry = [mp.Cylinder(0.2, material=mp.Medium(epsilon=12))]\n",
    "geometry_lattice = mp.Lattice(size=mp.Vector3(1, 1))\n",
    "resolution = 32\n",
    "ms = mpb.ModeSolver(num_bands=num_bands,\n",
    "                    k_points=k_points,\n",
    "                    geometry=geometry,\n",
    "                    geometry_lattice=geometry_lattice,\n",
    "                    resolution=resolution)\n",
    "print(\"Square lattice of rods: TE bands\")\n",
    "ms.run_tm()\n",
    "ms.output_epsilon()"
   ]
  },
  {
   "cell_type": "code",
   "execution_count": null,
   "metadata": {},
   "outputs": [],
   "source": [
    "#!python PIT.py >& PI.out\n",
    "#!rm PI.dat\n",
    "#!rm *.h5\n",
    "#!grep tmfreqs PI.out >> PI.dat\n",
    "\n",
    "import csv\n",
    "import numpy as np\n",
    "import matplotlib.pyplot as plt\n",
    "num_bands=8\n",
    "nip_raw = []\n",
    "k_raw = []\n",
    "omega_raw = []\n",
    "\n",
    "with open('PI.dat') as csv_file:\n",
    "    csv_reader = csv.reader(csv_file, delimiter=',')\n",
    "    line_count = 0\n",
    "    next(csv_file)\n",
    "    for row in csv_reader:\n",
    "        nip_raw.append(row[1])\n",
    "        k_raw.append(row[2:5])\n",
    "        omega_raw.append(row[6:num_bands+6])\n",
    "        \n",
    "N=np.size(nip_raw)\n",
    "nip=np.zeros((N))\n",
    "k=np.zeros((N,3))\n",
    "omega=np.zeros((N,num_bands))\n",
    "for i in range(0,N):\n",
    "    nip[i] = float(nip_raw[i])\n",
    "    for j in range(0,3):\n",
    "        k[i][j] = float(k_raw[i][j])\n",
    "        \n",
    "    for j in range(0,num_bands):\n",
    "        omega[i][j] = float(omega_raw[i][j])\n",
    "\n",
    "plt.plot(nip,omega[:,:])"
   ]
  },
  {
   "cell_type": "code",
   "execution_count": null,
   "metadata": {},
   "outputs": [],
   "source": [
    "import math\n",
    "(0.57735/0.408)*math.sqrt(2)"
   ]
  },
  {
   "cell_type": "code",
   "execution_count": null,
   "metadata": {},
   "outputs": [],
   "source": [
    "!python PIT.py \n",
    "!h5tovtk PIT-epsilon.h5"
   ]
  },
  {
   "cell_type": "code",
   "execution_count": null,
   "metadata": {},
   "outputs": [],
   "source": []
  }
 ],
 "metadata": {
  "@webio": {
   "lastCommId": null,
   "lastKernelId": null
  },
  "kernelspec": {
   "display_name": "Python 2",
   "language": "python",
   "name": "python2"
  },
  "language_info": {
   "codemirror_mode": {
    "name": "ipython",
    "version": 2
   },
   "file_extension": ".py",
   "mimetype": "text/x-python",
   "name": "python",
   "nbconvert_exporter": "python",
   "pygments_lexer": "ipython2",
   "version": "2.7.16"
  }
 },
 "nbformat": 4,
 "nbformat_minor": 2
}
