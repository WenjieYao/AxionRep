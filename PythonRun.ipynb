{
 "cells": [
  {
   "cell_type": "code",
   "execution_count": 14,
   "metadata": {},
   "outputs": [
    {
     "name": "stdout",
     "output_type": "stream",
     "text": [
      "Overwriting PIT.py\n"
     ]
    }
   ],
   "source": [
    "%%writefile PIT.py\n",
    "import math\n",
    "import meep as mp\n",
    "from meep import mpb\n",
    "\n",
    "num_bands = 3\n",
    "\n",
    "k_points = [mp.Vector3(0.0  ,0.5  ,0.5  ),\n",
    "            mp.Vector3(0.0  ,0.625,0.375),       \n",
    "            mp.Vector3(0.0  ,0.5  ,0.0  ),  \n",
    "            mp.Vector3(0.0  ,0.0  ,0.0  ),\n",
    "            mp.Vector3(0.0  ,0.5  ,0.5  ),\n",
    "            mp.Vector3(0.25 ,0.75 ,0.5  ),\n",
    "            mp.Vector3(0.375,0.75 ,0.375),\n",
    "            mp.Vector3()]          \n",
    "\n",
    "k_points = mp.interpolate(4, k_points)\n",
    "\n",
    "geometry = [mp.Cylinder(0.2, material=mp.Medium(epsilon=12))]\n",
    "\n",
    "geometry_lattice = mp.Lattice(size=mp.Vector3(1, 1))\n",
    "\n",
    "resolution = 32\n",
    "\n",
    "ms = mpb.ModeSolver(num_bands=num_bands,\n",
    "                    k_points=k_points,\n",
    "                    geometry=geometry,\n",
    "                    geometry_lattice=geometry_lattice,\n",
    "                    resolution=resolution)\n",
    "\n",
    "print(\"Square lattice of rods: TE bands\")\n",
    "ms.run_te()"
   ]
  },
  {
   "cell_type": "code",
   "execution_count": 22,
   "metadata": {},
   "outputs": [],
   "source": [
    "!python PIT.py >& PI.out"
   ]
  },
  {
   "cell_type": "code",
   "execution_count": 23,
   "metadata": {},
   "outputs": [],
   "source": [
    "!rm PI.dat\n",
    "!grep tmfreqs PI.out >> PI.dat"
   ]
  },
  {
   "cell_type": "code",
   "execution_count": 24,
   "metadata": {},
   "outputs": [],
   "source": [
    "import csv\n",
    "import numpy as np\n",
    "import matplotlib.pyplot as plt\n",
    "num_bands=8\n",
    "nip_raw = []\n",
    "k_raw = []\n",
    "omega_raw = []\n",
    "\n",
    "with open('PI.dat') as csv_file:\n",
    "    csv_reader = csv.reader(csv_file, delimiter=',')\n",
    "    line_count = 0\n",
    "    next(csv_file)\n",
    "    for row in csv_reader:\n",
    "        nip_raw.append(row[1])\n",
    "        k_raw.append(row[2:5])\n",
    "        omega_raw.append(row[6:num_bands+6])\n",
    "        "
   ]
  },
  {
   "cell_type": "code",
   "execution_count": 25,
   "metadata": {},
   "outputs": [
    {
     "data": {
      "text/plain": [
       "array([[0.       , 0.546027 , 0.552094 , 0.552096 , 0.812093 , 0.854314 ,\n",
       "        0.951107 , 1.08259  ],\n",
       "       [0.0643671, 0.518896 , 0.552617 , 0.579095 , 0.812721 , 0.852958 ,\n",
       "        0.941428 , 1.04995  ],\n",
       "       [0.126061 , 0.48795  , 0.553991 , 0.610359 , 0.812384 , 0.849484 ,\n",
       "        0.912816 , 1.02959  ],\n",
       "       [0.181523 , 0.45665  , 0.555709 , 0.644685 , 0.802314 , 0.845326 ,\n",
       "        0.880698 , 1.025    ],\n",
       "       [0.224302 , 0.429317 , 0.557116 , 0.682524 , 0.772176 , 0.842059 ,\n",
       "        0.865404 , 1.0269   ],\n",
       "       [0.241821 , 0.417114 , 0.557658 , 0.713395 , 0.741311 , 0.84083  ,\n",
       "        0.862516 , 1.02856  ],\n",
       "       [0.245235 , 0.4236   , 0.551085 , 0.711571 , 0.749855 , 0.841982 ,\n",
       "        0.862609 , 1.01714  ],\n",
       "       [0.25442  , 0.441321 , 0.535034 , 0.706018 , 0.772267 , 0.845818 ,\n",
       "        0.862861 , 0.989395 ],\n",
       "       [0.266397 , 0.465222 , 0.516482 , 0.697068 , 0.802974 , 0.853388 ,\n",
       "        0.863228 , 0.954203 ],\n",
       "       [0.276774 , 0.48701  , 0.501823 , 0.687264 , 0.837704 , 0.86397  ,\n",
       "        0.865932 , 0.916273 ],\n",
       "       [0.280948 , 0.496196 , 0.496197 , 0.682617 , 0.859474 , 0.878316 ,\n",
       "        0.878316 , 0.879351 ],\n",
       "       [0.27141  , 0.485365 , 0.501693 , 0.689111 , 0.830636 , 0.844978 ,\n",
       "        0.893706 , 0.898991 ],\n",
       "       [0.236529 , 0.473888 , 0.515941 , 0.679199 , 0.819377 , 0.829518 ,\n",
       "        0.897603 , 0.933446 ],\n",
       "       [0.172884 , 0.482973 , 0.533242 , 0.640233 , 0.819202 , 0.838111 ,\n",
       "        0.910409 , 0.976551 ],\n",
       "       [0.0904174, 0.510404 , 0.546943 , 0.593803 , 0.81373  , 0.851132 ,\n",
       "        0.935551 , 1.02882  ],\n",
       "       [0.       , 0.546027 , 0.552094 , 0.552096 , 0.812093 , 0.854314 ,\n",
       "        0.951107 , 1.08259  ]])"
      ]
     },
     "execution_count": 25,
     "metadata": {},
     "output_type": "execute_result"
    }
   ],
   "source": [
    "N=np.size(nip_raw)\n",
    "nip=np.zeros((N))\n",
    "k=np.zeros((N,3))\n",
    "omega=np.zeros((N,num_bands))\n",
    "for i in range(0,N):\n",
    "    nip[i] = float(nip_raw[i])\n",
    "    for j in range(0,3):\n",
    "        k[i][j] = float(k_raw[i][j])\n",
    "        \n",
    "    for j in range(0,num_bands):\n",
    "        omega[i][j] = float(omega_raw[i][j])\n",
    "\n",
    "omega"
   ]
  },
  {
   "cell_type": "code",
   "execution_count": 26,
   "metadata": {},
   "outputs": [
    {
     "data": {
      "text/plain": [
       "[<matplotlib.lines.Line2D at 0x1185fef50>,\n",
       " <matplotlib.lines.Line2D at 0x11860a050>,\n",
       " <matplotlib.lines.Line2D at 0x11860a110>,\n",
       " <matplotlib.lines.Line2D at 0x11860a1d0>,\n",
       " <matplotlib.lines.Line2D at 0x11860a290>,\n",
       " <matplotlib.lines.Line2D at 0x11860a350>,\n",
       " <matplotlib.lines.Line2D at 0x11860a410>,\n",
       " <matplotlib.lines.Line2D at 0x11860a4d0>]"
      ]
     },
     "execution_count": 26,
     "metadata": {},
     "output_type": "execute_result"
    },
    {
     "data": {
      "image/png": "[encoded data removed]",
      "text/plain": [
       "<Figure size 432x288 with 1 Axes>"
      ]
     },
     "metadata": {
      "needs_background": "light"
     },
     "output_type": "display_data"
    }
   ],
   "source": [
    "plt.plot(nip,omega[:,:])"
   ]
  },
  {
   "cell_type": "code",
   "execution_count": null,
   "metadata": {},
   "outputs": [],
   "source": []
  }
 ],
 "metadata": {
  "kernelspec": {
   "display_name": "Python 2",
   "language": "python",
   "name": "python2"
  },
  "language_info": {
   "codemirror_mode": {
    "name": "ipython",
    "version": 2
   },
   "file_extension": ".py",
   "mimetype": "text/x-python",
   "name": "python",
   "nbconvert_exporter": "python",
   "pygments_lexer": "ipython2",
   "version": "2.7.16"
  }
 },
 "nbformat": 4,
 "nbformat_minor": 2
}
